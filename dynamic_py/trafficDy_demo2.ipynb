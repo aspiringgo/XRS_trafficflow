{
 "cells": [
  {
   "cell_type": "code",
   "execution_count": 7,
   "metadata": {},
   "outputs": [
    {
     "ename": "SyntaxError",
     "evalue": "invalid syntax (3987725962.py, line 3)",
     "output_type": "error",
     "traceback": [
      "\u001b[0;36m  Input \u001b[0;32mIn [7]\u001b[0;36m\u001b[0m\n\u001b[0;31m    python -m pip install --upgrade pip\u001b[0m\n\u001b[0m              ^\u001b[0m\n\u001b[0;31mSyntaxError\u001b[0m\u001b[0;31m:\u001b[0m invalid syntax\n"
     ]
    }
   ],
   "source": [
    "pip --version\n",
    "\n",
    "python -m pip install --upgrade pip\n",
    "\n",
    "pip3 install tensorflow==2.0.0"
   ]
  },
  {
   "cell_type": "code",
   "execution_count": 6,
   "metadata": {},
   "outputs": [
    {
     "ename": "ModuleNotFoundError",
     "evalue": "No module named 'tensorflow'",
     "output_type": "error",
     "traceback": [
      "\u001b[0;31m---------------------------------------------------------------------------\u001b[0m",
      "\u001b[0;31mModuleNotFoundError\u001b[0m                       Traceback (most recent call last)",
      "\u001b[1;32m/Users/zhengyangliu/Documents/JupyterNotebook/trafficDy_demo2.ipynb Cell 1\u001b[0m in \u001b[0;36m<cell line: 5>\u001b[0;34m()\u001b[0m\n\u001b[1;32m      <a href='vscode-notebook-cell:/Users/zhengyangliu/Documents/JupyterNotebook/trafficDy_demo2.ipynb#W0sZmlsZQ%3D%3D?line=2'>3</a>\u001b[0m \u001b[39mimport\u001b[39;00m \u001b[39mmatplotlib\u001b[39;00m\u001b[39m.\u001b[39;00m\u001b[39mpyplot\u001b[39;00m \u001b[39mas\u001b[39;00m \u001b[39mplt\u001b[39;00m\n\u001b[1;32m      <a href='vscode-notebook-cell:/Users/zhengyangliu/Documents/JupyterNotebook/trafficDy_demo2.ipynb#W0sZmlsZQ%3D%3D?line=3'>4</a>\u001b[0m \u001b[39mimport\u001b[39;00m \u001b[39mmath\u001b[39;00m\n\u001b[0;32m----> <a href='vscode-notebook-cell:/Users/zhengyangliu/Documents/JupyterNotebook/trafficDy_demo2.ipynb#W0sZmlsZQ%3D%3D?line=4'>5</a>\u001b[0m \u001b[39mimport\u001b[39;00m \u001b[39mtensorflow\u001b[39;00m \u001b[39mas\u001b[39;00m \u001b[39mtf\u001b[39;00m\n\u001b[1;32m      <a href='vscode-notebook-cell:/Users/zhengyangliu/Documents/JupyterNotebook/trafficDy_demo2.ipynb#W0sZmlsZQ%3D%3D?line=5'>6</a>\u001b[0m \u001b[39mfrom\u001b[39;00m \u001b[39msklearn\u001b[39;00m\u001b[39m.\u001b[39;00m\u001b[39mpreprocessing\u001b[39;00m \u001b[39mimport\u001b[39;00m MinMaxScaler\n\u001b[1;32m      <a href='vscode-notebook-cell:/Users/zhengyangliu/Documents/JupyterNotebook/trafficDy_demo2.ipynb#W0sZmlsZQ%3D%3D?line=6'>7</a>\u001b[0m \u001b[39mfrom\u001b[39;00m \u001b[39mtensorflow\u001b[39;00m\u001b[39m.\u001b[39;00m\u001b[39mkeras\u001b[39;00m\u001b[39m.\u001b[39;00m\u001b[39mmodels\u001b[39;00m \u001b[39mimport\u001b[39;00m Sequential\n",
      "\u001b[0;31mModuleNotFoundError\u001b[0m: No module named 'tensorflow'"
     ]
    }
   ],
   "source": [
    "import numpy as np\n",
    "import pandas as pd\n",
    "import matplotlib.pyplot as plt\n",
    "import math\n",
    "import tensorflow as tf\n",
    "from sklearn.preprocessing import MinMaxScaler\n",
    "from tensorflow.keras.models import Sequential\n",
    "from tensorflow.keras.layers import LSTM, Dense"
   ]
  },
  {
   "cell_type": "code",
   "execution_count": null,
   "metadata": {},
   "outputs": [],
   "source": [
    "# Load the dataset\n",
    "raw_data = pd.read_csv('NGSIM__Lankershim_Vehicle_Trajectories.csv')\n",
    "raw_df = pd.DataFrame(raw_data)\n",
    "\n",
    "# select intersection: 1234(5?)\n",
    "# Direction: 1E2N3W4S\n",
    "# Movement: 1TH, 2LT, 3RT\n",
    "\n",
    "intID = 2\n",
    "Movement = 1\n",
    "Direction = 1\n",
    "\n",
    "df = raw_df.loc[(raw_df['Int_ID'] == intID)]\n",
    "df = df.loc[df['Movement'] == Movement]\n",
    "nV = len(set(df.Vehicle_ID))\n",
    "print('The total volume number is ' + str(nV))   \n",
    "\n",
    "# Time stamp process\n",
    "\n",
    "# sort and pre-normalize the global time\n",
    "df.Global_Time = (df.Global_Time - min(df['Global_Time']))/1000 # changed unit to seconds # (ten frames per second)\n",
    "# nT = len(df.Global_Time)\n",
    "\n",
    "# plot the Global_Time\n",
    "# number = np.arange(0,len(df))\n",
    "# mp.plot(number, df.Global_Time)\n",
    "# print(max(df.Global_Time)) # time spans\n",
    "\n",
    "# set the timestamp\n",
    "time_df = df[['Vehicle_ID', 'Global_Time']] # Select only the two columns from complete dataframe\n",
    "stp_df = pd.DataFrame(columns=['TimeStamp','Volume'])\n",
    "for i in range(math.ceil(max(df.Global_Time)/10)):\n",
    "    temp_df = time_df.loc[(df['Global_Time'] >= i * 10) & (df['Global_Time'] <= (i+1) * 10)]\n",
    "    temp_n = len(set(temp_df.Vehicle_ID))\n",
    "    data={'TimeStamp':[i],'Volume':[temp_n]}\n",
    "    new_row = pd.DataFrame(data)\n",
    "    stp_df = pd.concat([stp_df,new_row],ignore_index=True)    \n",
    "    i = i + 1\n",
    "else:\n",
    "    print(\"Finish loop\")\n",
    "# Cut the last time stamp for lacking sufficient time\n",
    "stp_df = stp_df.iloc[:-1 , :]\n",
    "stp_df # display the whole time stamps"
   ]
  },
  {
   "cell_type": "code",
   "execution_count": null,
   "metadata": {},
   "outputs": [],
   "source": [
    "\n",
    "# Convert the 'date_time' column to datetime format and set it as the index\n",
    "df['date_time'] = pd.to_datetime(df['date_time'])\n",
    "df = df.set_index('date_time')\n",
    "\n",
    "# Extract the traffic volume data\n",
    "traffic_volume = df['traffic_volume'].values\n",
    "\n",
    "# Normalize the traffic volume data using MinMaxScaler\n",
    "scaler = MinMaxScaler(feature_range=(0, 1))\n",
    "traffic_volume = scaler.fit_transform(traffic_volume.reshape(-1, 1))\n",
    "\n",
    "# Split the data into training and testing sets\n",
    "train_size = int(len(traffic_volume) * 0.8)\n",
    "test_size = len(traffic_volume) - train_size\n",
    "train_data, test_data = traffic_volume[0:train_size,:], traffic_volume[train_size:len(traffic_volume),:]\n"
   ]
  }
 ],
 "metadata": {
  "kernelspec": {
   "display_name": "base",
   "language": "python",
   "name": "python3"
  },
  "language_info": {
   "codemirror_mode": {
    "name": "ipython",
    "version": 3
   },
   "file_extension": ".py",
   "mimetype": "text/x-python",
   "name": "python",
   "nbconvert_exporter": "python",
   "pygments_lexer": "ipython3",
   "version": "3.9.13"
  },
  "orig_nbformat": 4,
  "vscode": {
   "interpreter": {
    "hash": "9e8d587767bcd4126c315e4212a9f50a6f8babe1dbb829674ea68a298fa1933b"
   }
  }
 },
 "nbformat": 4,
 "nbformat_minor": 2
}
