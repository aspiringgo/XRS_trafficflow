{
 "cells": [
  {
   "cell_type": "code",
   "execution_count": 3,
   "metadata": {},
   "outputs": [
    {
     "name": "stdout",
     "output_type": "stream",
     "text": [
      "Epoch 0, loss: 1.5838693380355835\n",
      "Epoch 10, loss: 0.8478480577468872\n",
      "Epoch 20, loss: 0.7040156126022339\n",
      "Epoch 30, loss: 0.6148613691329956\n",
      "Epoch 40, loss: 0.578637957572937\n",
      "Epoch 50, loss: 0.5679974555969238\n",
      "Epoch 60, loss: 0.5565662384033203\n",
      "Epoch 70, loss: 0.551517128944397\n",
      "Epoch 80, loss: 0.5481774210929871\n",
      "Epoch 90, loss: 0.5450107455253601\n",
      "tensor([[-0.4130],\n",
      "        [-0.0917],\n",
      "        [ 0.2358]], grad_fn=<AddmmBackward0>)\n"
     ]
    }
   ],
   "source": [
    "import torch\n",
    "import torch.nn as nn\n",
    "import numpy as np\n",
    "import pandas as pd\n",
    "\n",
    "# load data\n",
    "df = pd.read_csv('testTimeSeriesData.csv', index_col=0)\n",
    "\n",
    "# normalize data\n",
    "X = df.values[:-1, :]\n",
    "X_max = np.max(X, axis=0)\n",
    "X = X / X_max\n",
    "y = df.values[1:, -1].astype(np.float32)  # convert y to numerical type\n",
    "y_max = np.max(y)\n",
    "y = y / y_max\n",
    "\n",
    "# define the model\n",
    "class Net(torch.nn.Module):\n",
    "    def __init__(self, input_size, hidden_size, output_size):\n",
    "        super(Net, self).__init__()\n",
    "        self.hidden = torch.nn.Linear(input_size, hidden_size)\n",
    "        self.out = torch.nn.Linear(hidden_size, output_size)\n",
    "\n",
    "    def forward(self, x):\n",
    "        x = torch.relu(self.hidden(x))\n",
    "        x = self.out(x)\n",
    "        return x\n",
    "\n",
    "# create the model\n",
    "input_size = 2\n",
    "hidden_size = 5\n",
    "output_size = 1\n",
    "model = Net(input_size, hidden_size, output_size)\n",
    "\n",
    "# define the loss function and optimizer\n",
    "criterion = torch.nn.MSELoss()\n",
    "optimizer = torch.optim.Adam(model.parameters(), lr=0.1)\n",
    "\n",
    "# generate some dummy data\n",
    "X = torch.randn(10, 2)\n",
    "y = torch.randn(10, 1)\n",
    "\n",
    "# train the model\n",
    "for epoch in range(100):\n",
    "    # zero the parameter gradients\n",
    "    optimizer.zero_grad()\n",
    "\n",
    "    # forward + backward + optimize\n",
    "    outputs = model(X)\n",
    "    loss = criterion(outputs, y)\n",
    "    loss.backward()\n",
    "    optimizer.step()\n",
    "\n",
    "    # print statistics\n",
    "    if epoch % 10 == 0:\n",
    "        print(f\"Epoch {epoch}, loss: {loss.item()}\")\n",
    "\n",
    "# test the model\n",
    "X_test = torch.tensor([[0.1, 0.2], [0.3, 0.4], [0.5, 0.6]])\n",
    "outputs = model(X_test)\n",
    "print(outputs)\n"
   ]
  }
 ],
 "metadata": {
  "kernelspec": {
   "display_name": "base",
   "language": "python",
   "name": "python3"
  },
  "language_info": {
   "codemirror_mode": {
    "name": "ipython",
    "version": 3
   },
   "file_extension": ".py",
   "mimetype": "text/x-python",
   "name": "python",
   "nbconvert_exporter": "python",
   "pygments_lexer": "ipython3",
   "version": "3.9.13"
  },
  "orig_nbformat": 4,
  "vscode": {
   "interpreter": {
    "hash": "9e8d587767bcd4126c315e4212a9f50a6f8babe1dbb829674ea68a298fa1933b"
   }
  }
 },
 "nbformat": 4,
 "nbformat_minor": 2
}
