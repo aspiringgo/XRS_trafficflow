{
 "cells": [
  {
   "cell_type": "code",
   "execution_count": 2,
   "metadata": {},
   "outputs": [
    {
     "ename": "NameError",
     "evalue": "name 'loss' is not defined",
     "output_type": "error",
     "traceback": [
      "\u001b[0;31m---------------------------------------------------------------------------\u001b[0m",
      "\u001b[0;31mNameError\u001b[0m                                 Traceback (most recent call last)",
      "\u001b[1;32m/Users/zhengyangliu/Documents/JupyterNotebook/trafficPyTorch.ipynb Cell 1\u001b[0m in \u001b[0;36m<cell line: 64>\u001b[0;34m()\u001b[0m\n\u001b[1;32m     <a href='vscode-notebook-cell:/Users/zhengyangliu/Documents/JupyterNotebook/trafficPyTorch.ipynb#W0sZmlsZQ%3D%3D?line=71'>72</a>\u001b[0m         optimizer\u001b[39m.\u001b[39mstep()\n\u001b[1;32m     <a href='vscode-notebook-cell:/Users/zhengyangliu/Documents/JupyterNotebook/trafficPyTorch.ipynb#W0sZmlsZQ%3D%3D?line=72'>73</a>\u001b[0m     \u001b[39mif\u001b[39;00m epoch \u001b[39m%\u001b[39m \u001b[39m10\u001b[39m \u001b[39m==\u001b[39m \u001b[39m0\u001b[39m:\n\u001b[0;32m---> <a href='vscode-notebook-cell:/Users/zhengyangliu/Documents/JupyterNotebook/trafficPyTorch.ipynb#W0sZmlsZQ%3D%3D?line=73'>74</a>\u001b[0m         \u001b[39mprint\u001b[39m(\u001b[39m'\u001b[39m\u001b[39mEpoch [\u001b[39m\u001b[39m{}\u001b[39;00m\u001b[39m/\u001b[39m\u001b[39m{}\u001b[39;00m\u001b[39m], Loss: \u001b[39m\u001b[39m{:.4f}\u001b[39;00m\u001b[39m'\u001b[39m\u001b[39m.\u001b[39mformat(epoch\u001b[39m+\u001b[39m\u001b[39m1\u001b[39m, num_epochs, loss\u001b[39m.\u001b[39mitem()))\n\u001b[1;32m     <a href='vscode-notebook-cell:/Users/zhengyangliu/Documents/JupyterNotebook/trafficPyTorch.ipynb#W0sZmlsZQ%3D%3D?line=75'>76</a>\u001b[0m \u001b[39m# Test the model\u001b[39;00m\n\u001b[1;32m     <a href='vscode-notebook-cell:/Users/zhengyangliu/Documents/JupyterNotebook/trafficPyTorch.ipynb#W0sZmlsZQ%3D%3D?line=76'>77</a>\u001b[0m \u001b[39mwith\u001b[39;00m torch\u001b[39m.\u001b[39mno_grad():\n",
      "\u001b[0;31mNameError\u001b[0m: name 'loss' is not defined"
     ]
    }
   ],
   "source": [
    "import torch\n",
    "import torch.nn as nn\n",
    "import torch.optim as optim\n",
    "import numpy as np\n",
    "import pandas as pd\n",
    "\n",
    "# Load the data\n",
    "data = pd.read_csv('testTimeSeriesData.csv', usecols=[1])\n",
    "data = np.array(data).astype('float32')\n",
    "\n",
    "# Define the sequence length and batch size\n",
    "sequence_length = 24\n",
    "batch_size = 32\n",
    "\n",
    "# Create sequences of data\n",
    "def create_sequences(data, sequence_length, batch_size):\n",
    "    num_sequences = len(data) - sequence_length\n",
    "    num_batches = num_sequences // batch_size\n",
    "    data = data[:num_batches * batch_size + sequence_length]\n",
    "    x = np.zeros((num_batches, batch_size, sequence_length))\n",
    "    y = np.zeros((num_batches, batch_size, 1))\n",
    "    for i in range(num_batches):\n",
    "        x[i] = data[i * batch_size:i * batch_size + sequence_length].reshape(batch_size, sequence_length)\n",
    "        y[i] = data[i * batch_size + sequence_length:(i + 1) * batch_size + sequence_length].reshape(batch_size, 1)\n",
    "    return x, y\n",
    "\n",
    "# Create the sequences\n",
    "x, y = create_sequences(data, sequence_length, batch_size)\n",
    "\n",
    "# Define the model\n",
    "class Model(nn.Module):\n",
    "    def __init__(self, input_size, hidden_size, num_layers, output_size):\n",
    "        super(Model, self).__init__()\n",
    "        self.rnn = nn.LSTM(input_size, hidden_size, num_layers, batch_first=True)\n",
    "        self.fc = nn.Linear(hidden_size, output_size)\n",
    "        \n",
    "    def forward(self, x):\n",
    "        h0 = torch.zeros(self.rnn.num_layers, x.size(0), self.rnn.hidden_size).to(device)\n",
    "        c0 = torch.zeros(self.rnn.num_layers, x.size(0), self.rnn.hidden_size).to(device)\n",
    "        out, _ = self.rnn(x, (h0, c0))\n",
    "        out = out[:, -1, :]\n",
    "        out = self.fc(out)\n",
    "        return out\n",
    "\n",
    "# Set the device\n",
    "device = torch.device('cuda' if torch.cuda.is_available() else 'cpu')\n",
    "\n",
    "# Define the hyperparameters\n",
    "input_size = 1\n",
    "hidden_size = 64\n",
    "num_layers = 2\n",
    "output_size = 1\n",
    "learning_rate = 0.001\n",
    "num_epochs = 50\n",
    "\n",
    "# Instantiate the model\n",
    "model = Model(input_size, hidden_size, num_layers, output_size).to(device)\n",
    "\n",
    "# Define the loss function and optimizer\n",
    "criterion = nn.MSELoss()\n",
    "optimizer = optim.Adam(model.parameters(), lr=learning_rate)\n",
    "\n",
    "# Train the model\n",
    "for epoch in range(num_epochs):\n",
    "    for i in range(x.shape[0]):\n",
    "        inputs = torch.from_numpy(x[i]).to(device)\n",
    "        targets = torch.from_numpy(y[i]).to(device)\n",
    "        outputs = model(inputs)\n",
    "        loss = criterion(outputs, targets)\n",
    "        optimizer.zero_grad()\n",
    "        loss.backward()\n",
    "        optimizer.step()\n",
    "    if epoch % 10 == 0:\n",
    "        print('Epoch [{}/{}], Loss: {:.4f}'.format(epoch+1, num_epochs, loss.item()))\n",
    "\n",
    "# Test the model\n",
    "with torch.no_grad():\n",
    "    inputs = torch.from_numpy(x[0]).to(device)\n",
    "    outputs = model(inputs)\n",
    "    print('Predicted traffic volume:', outputs.cpu().numpy()[0][0])\n"
   ]
  }
 ],
 "metadata": {
  "kernelspec": {
   "display_name": "base",
   "language": "python",
   "name": "python3"
  },
  "language_info": {
   "codemirror_mode": {
    "name": "ipython",
    "version": 3
   },
   "file_extension": ".py",
   "mimetype": "text/x-python",
   "name": "python",
   "nbconvert_exporter": "python",
   "pygments_lexer": "ipython3",
   "version": "3.9.13"
  },
  "orig_nbformat": 4,
  "vscode": {
   "interpreter": {
    "hash": "9e8d587767bcd4126c315e4212a9f50a6f8babe1dbb829674ea68a298fa1933b"
   }
  }
 },
 "nbformat": 4,
 "nbformat_minor": 2
}
